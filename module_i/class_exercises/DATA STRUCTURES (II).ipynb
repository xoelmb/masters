{
 "cells": [
  {
   "cell_type": "markdown",
   "metadata": {},
   "source": [
    "# 01. Nested Data Structures"
   ]
  },
  {
   "cell_type": "code",
   "execution_count": 21,
   "metadata": {},
   "outputs": [
    {
     "name": "stdout",
     "output_type": "stream",
     "text": [
      "NAME: Tom\n",
      "  Condition-1: Diabetes\n",
      "\n",
      "NAME: Laura\n",
      "  Condition-1: Headache\n",
      "  Condition-2: Fever\n",
      "\n",
      "NAME: Sam\n",
      "\n",
      "NAME: John\n",
      "  Condition-1: Malaria\n",
      "\n"
     ]
    }
   ],
   "source": [
    "# List of tuples modeling patients\n",
    "# Each patient is a tuple (name,age,conditions...)\n",
    "patients = [(\"Tom\",45,[\"Diabetes\"]),\n",
    "            (\"Laura\",76,[\"Headache\",\"Fever\"]),\n",
    "            (\"Sam\",65,[]),\n",
    "            (\"John\",21,[\"Malaria\"])]\n",
    "\n",
    "# Print all patients name and conditions like:\n",
    "# NAME: Laura\n",
    "# Condition-1: Headache\n",
    "# Condition-2: Fever\n",
    "\n",
    "for i in patients:\n",
    "    print(\"NAME:\",i[0])\n",
    "    k=1\n",
    "    for j in i[2]:\n",
    "        print(\"  Condition-\"+str(k)+\":\",j)\n",
    "        k+=1\n",
    "    print()"
   ]
  },
  {
   "cell_type": "code",
   "execution_count": 30,
   "metadata": {},
   "outputs": [
    {
     "name": "stdout",
     "output_type": "stream",
     "text": [
      "NAME: Tom\n",
      "  Condition-1: D, i, a, b, e, t, e, s,\n",
      "\n",
      "NAME: Laura\n",
      "  Condition-1: H, e, a, d, a, c, h, e,\n",
      "  Condition-2: F, e, v, e, r,\n",
      "\n",
      "NAME: Sam\n",
      "\n",
      "NAME: John\n",
      "  Condition-1: M, a, l, a, r, i, a,\n",
      "\n"
     ]
    }
   ],
   "source": [
    "# List of tuples modeling patients\n",
    "# Each patient is a tuple (name,age,conditions...)\n",
    "patients = [(\"Tom\",45,[\"Diabetes\"]),\n",
    "            (\"Laura\",76,[\"Headache\",\"Fever\"]),\n",
    "            (\"Sam\",65,[]),\n",
    "            (\"John\",21,[\"Malaria\"])]\n",
    "\n",
    "# Print all patients name and conditions like:\n",
    "# NAME: Laura\n",
    "# Condition-1: Headache\n",
    "# Condition-2: Fever\n",
    "\n",
    "for i in patients:\n",
    "    print(\"NAME:\",i[0])\n",
    "    k=1\n",
    "    for j in i[2]:\n",
    "        print(\"  Condition-\"+str(k)+\":\",end=\"\")\n",
    "        for l in range(len(j)):\n",
    "             print(\" \"+j[l]+\",\",end=\"\")\n",
    "        k+=1\n",
    "        print()\n",
    "    print()"
   ]
  },
  {
   "cell_type": "code",
   "execution_count": 15,
   "metadata": {},
   "outputs": [
    {
     "name": "stdout",
     "output_type": "stream",
     "text": [
      "10\n"
     ]
    }
   ],
   "source": [
    "def rower(n):\n",
    "    k=0\n",
    "    matrix=[]\n",
    "    for x in range(n):\n",
    "        fila=[]\n",
    "        for y in range(n):\n",
    "            fila.append(k)\n",
    "            k+=1\n",
    "        matrix.append(fila)\n",
    "    return matrix\n",
    "\n",
    "print(len(rower(10)))"
   ]
  },
  {
   "cell_type": "code",
   "execution_count": 18,
   "metadata": {},
   "outputs": [
    {
     "ename": "TypeError",
     "evalue": "list indices must be integers or slices, not list",
     "output_type": "error",
     "traceback": [
      "\u001b[0;31m---------------------------------------------------------------------------\u001b[0m",
      "\u001b[0;31mTypeError\u001b[0m                                 Traceback (most recent call last)",
      "\u001b[0;32m<ipython-input-18-c6a337d9496a>\u001b[0m in \u001b[0;36m<module>\u001b[0;34m\u001b[0m\n\u001b[1;32m     10\u001b[0m     \u001b[0;32mreturn\u001b[0m \u001b[0mtranspose\u001b[0m\u001b[0;34m\u001b[0m\u001b[0;34m\u001b[0m\u001b[0m\n\u001b[1;32m     11\u001b[0m \u001b[0;34m\u001b[0m\u001b[0m\n\u001b[0;32m---> 12\u001b[0;31m \u001b[0mprint\u001b[0m\u001b[0;34m(\u001b[0m\u001b[0mtranspose\u001b[0m\u001b[0;34m(\u001b[0m\u001b[0mrower\u001b[0m\u001b[0;34m(\u001b[0m\u001b[0;36m10\u001b[0m\u001b[0;34m)\u001b[0m\u001b[0;34m)\u001b[0m\u001b[0;34m)\u001b[0m\u001b[0;34m\u001b[0m\u001b[0;34m\u001b[0m\u001b[0m\n\u001b[0m\u001b[1;32m     13\u001b[0m \u001b[0;34m\u001b[0m\u001b[0m\n\u001b[1;32m     14\u001b[0m \u001b[0;34m\u001b[0m\u001b[0m\n",
      "\u001b[0;32m<ipython-input-18-c6a337d9496a>\u001b[0m in \u001b[0;36mtranspose\u001b[0;34m(matrix)\u001b[0m\n\u001b[1;32m      6\u001b[0m     \u001b[0;32mfor\u001b[0m \u001b[0mx\u001b[0m \u001b[0;32min\u001b[0m \u001b[0mmatrix\u001b[0m\u001b[0;34m:\u001b[0m\u001b[0;34m\u001b[0m\u001b[0;34m\u001b[0m\u001b[0m\n\u001b[1;32m      7\u001b[0m         \u001b[0;32mfor\u001b[0m \u001b[0my\u001b[0m \u001b[0;32min\u001b[0m \u001b[0mx\u001b[0m\u001b[0;34m:\u001b[0m\u001b[0;34m\u001b[0m\u001b[0;34m\u001b[0m\u001b[0m\n\u001b[0;32m----> 8\u001b[0;31m             \u001b[0mtranspose\u001b[0m\u001b[0;34m[\u001b[0m\u001b[0my\u001b[0m\u001b[0;34m]\u001b[0m\u001b[0;34m[\u001b[0m\u001b[0mx\u001b[0m\u001b[0;34m]\u001b[0m\u001b[0;34m=\u001b[0m\u001b[0mmatrix\u001b[0m\u001b[0;34m[\u001b[0m\u001b[0mx\u001b[0m\u001b[0;34m]\u001b[0m\u001b[0;34m[\u001b[0m\u001b[0my\u001b[0m\u001b[0;34m]\u001b[0m\u001b[0;34m\u001b[0m\u001b[0;34m\u001b[0m\u001b[0m\n\u001b[0m\u001b[1;32m      9\u001b[0m \u001b[0;34m\u001b[0m\u001b[0m\n\u001b[1;32m     10\u001b[0m     \u001b[0;32mreturn\u001b[0m \u001b[0mtranspose\u001b[0m\u001b[0;34m\u001b[0m\u001b[0;34m\u001b[0m\u001b[0m\n",
      "\u001b[0;31mTypeError\u001b[0m: list indices must be integers or slices, not list"
     ]
    }
   ],
   "source": [
    "# [E2] Given a matrix of NxN integers, implement a function that computes the transpose of that matrix.\n",
    "\n",
    "def transpose(matrix):\n",
    "    transpose = [[0 for x in range(len(matrix))] for y in range(len(matrix))]\n",
    "    \n",
    "    for x in rangematrix:\n",
    "        for y in x:\n",
    "            transpose[y][x]=matrix[x][y]\n",
    "            \n",
    "    return transpose\n",
    "\n",
    "print(transpose(rower(10)))\n",
    "                                                                                                                                                               \n",
    "\n",
    "\n",
    "\n",
    "\n",
    "\n",
    "\n",
    "\n",
    "\n"
   ]
  }
 ],
 "metadata": {
  "kernelspec": {
   "display_name": "Python 3",
   "language": "python",
   "name": "python3"
  },
  "language_info": {
   "codemirror_mode": {
    "name": "ipython",
    "version": 3
   },
   "file_extension": ".py",
   "mimetype": "text/x-python",
   "name": "python",
   "nbconvert_exporter": "python",
   "pygments_lexer": "ipython3",
   "version": "3.7.3"
  }
 },
 "nbformat": 4,
 "nbformat_minor": 2
}
