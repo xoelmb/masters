{
 "cells": [
  {
   "cell_type": "markdown",
   "metadata": {},
   "source": [
    "# I/O\n",
    "## 2. FILE I/O. EXERCISES"
   ]
  },
  {
   "cell_type": "code",
   "execution_count": null,
   "metadata": {},
   "outputs": [],
   "source": [
    "#E1. Consola\n",
    "\n",
    "# Open the file\n",
    "print(\"which file do you want to open?\")\n",
    "name=input()\n",
    "f = open(name, \"rt\")\n",
    "\n",
    "# Count and print lines\n",
    "num_lines = 0\n",
    "for line in f:\n",
    "    if num_lines%5==0 and num_lines!=0:\n",
    "        print(\"Do you want to continue? (Y/N)\")\n",
    "        ans=input()\n",
    "        if ans==\"N\":\n",
    "            break            \n",
    "    print(\"line\",num_lines+1,line.strip())\n",
    "    num_lines+=1\n",
    "\n",
    "# Close file\n",
    "f.close()\n"
   ]
  }
 ],
 "metadata": {
  "kernelspec": {
   "display_name": "Python 3",
   "language": "python",
   "name": "python3"
  },
  "language_info": {
   "codemirror_mode": {
    "name": "ipython",
    "version": 3
   },
   "file_extension": ".py",
   "mimetype": "text/x-python",
   "name": "python",
   "nbconvert_exporter": "python",
   "pygments_lexer": "ipython3",
   "version": "3.7.3"
  }
 },
 "nbformat": 4,
 "nbformat_minor": 2
}
