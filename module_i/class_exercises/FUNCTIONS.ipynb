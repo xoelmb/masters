{
 "cells": [
  {
   "cell_type": "markdown",
   "metadata": {},
   "source": [
    "# FUNCTIONS\n",
    "## 1. Scope: Global vs Local\n",
    "Each function can declare on its own domain that will be only visible within the context of that function. In the example, function 1 will never see string \"local\", just the global string.</br>\n",
    "## 1. Stack Diagrams\n",
    "It stacks in a simple diagram all the code that would be run. When a function it's executed, the code of the function is represented in the diagram; not when it's defined but when it's run. The code run inside a function is progresively indented.\n",
    "<br>The variables that are used at a given moment are those in the same level of indentation at the stack diagram.\n",
    "## 1. Return value\n",
    "The return statement allows you to get out a value from a function, it's its result. Keep in mind that the variables used within functions is lost after the function is run unless it's returned.\n",
    "## 1. FUNCTIONS: EXERCISES"
   ]
  },
  {
   "cell_type": "code",
   "execution_count": 2,
   "metadata": {},
   "outputs": [
    {
     "name": "stdout",
     "output_type": "stream",
     "text": [
      "32\n"
     ]
    }
   ],
   "source": [
    "#E1\n",
    "def function_1(number):\n",
    "    return number *2\n",
    "def function_2(number):\n",
    "    return number + function_1(number+1)\n",
    "\n",
    "x = function_2(10)\n",
    "print(x)"
   ]
  },
  {
   "cell_type": "raw",
   "metadata": {},
   "source": [
    "Stack diagram\n",
    "\n",
    "x = function_2(10)\n",
    "> number = 10\n",
    "> number + function_1(10+1)\n",
    ">> number = 11\n",
    ">> 11 * 2\n",
    ">> return 22\n",
    "> return 32\n",
    "x = 32"
   ]
  },
  {
   "cell_type": "code",
   "execution_count": 3,
   "metadata": {},
   "outputs": [
    {
     "name": "stdout",
     "output_type": "stream",
     "text": [
      "26\n"
     ]
    }
   ],
   "source": [
    "#E2\n",
    "def f1(x,y):\n",
    "    return x + y\n",
    "\n",
    "def f2(x):\n",
    "    if (x % 2 == 0):\n",
    "        return 2 *x\n",
    "    else:\n",
    "        return x +1\n",
    "    \n",
    "def f3(x):\n",
    "    acc = 0\n",
    "    for i in range(1,x+1):\n",
    "        acc += i\n",
    "    return acc\n",
    "\n",
    "x = f1(f2(f3(5)),10)\n",
    "\n",
    "print(x)"
   ]
  },
  {
   "cell_type": "raw",
   "metadata": {},
   "source": [
    "x = f1(f2(f3(5)),10)\n",
    "> x = f2(f3(5))\n",
    ">> x = f3(5)\n",
    ">>> x = 5\n",
    ">>> acc = 0\n",
    ">>> for i in range(1,6)\n",
    ">>> acc += 1 ... 5\n",
    ">>> ...\n",
    ">>> acc = 15\n",
    ">>> return acc\n",
    ">> x = 15\n",
    ">> return 15+1\n",
    "> x = 16\n",
    "> y = 10\n",
    "> return 16 + 10\n",
    "x = 26"
   ]
  },
  {
   "cell_type": "code",
   "execution_count": 1,
   "metadata": {},
   "outputs": [
    {
     "name": "stdout",
     "output_type": "stream",
     "text": [
      "1 is a prime number. Acc = 1\n",
      "2 is a prime number. Acc = 3\n",
      "3 is a prime number. Acc = 6\n",
      "5 is a prime number. Acc = 11\n",
      "7 is a prime number. Acc = 18\n",
      "11 is a prime number. Acc = 29\n",
      "13 is a prime number. Acc = 42\n",
      "17 is a prime number. Acc = 59\n",
      "19 is a prime number. Acc = 78\n",
      "78\n"
     ]
    }
   ],
   "source": [
    "#E3\n",
    "\n",
    "#Función que comprueba si un número es primo o no:\n",
    "def isPrime (number):\n",
    "    if number == 1:\n",
    "        return True\n",
    "    else:\n",
    "        for i in range(2,number):\n",
    "            if number % i == 0:\n",
    "                return False\n",
    "    return True\n",
    "\n",
    "#Declaramos el número y el acumulado\n",
    "number = 19\n",
    "acc = 0\n",
    "\n",
    "\n",
    "#Con un loop comprobamos si todos los números hasta el dado son primos,\n",
    "#y si lo son, se suman:\n",
    "for i in range(1, number+1):\n",
    "    if isPrime(i) == True:\n",
    "        acc +=i\n",
    "        print(i,\"is a prime number. Acc =\",acc)\n",
    "        \n",
    "print(acc)"
   ]
  },
  {
   "cell_type": "markdown",
   "metadata": {},
   "source": [
    "##  2. Recursion\n",
    "Use prints to track the code.\n",
    "## 2. RECURRENCE EXERCISES"
   ]
  },
  {
   "cell_type": "code",
   "execution_count": 4,
   "metadata": {},
   "outputs": [
    {
     "name": "stdout",
     "output_type": "stream",
     "text": [
      "1\n",
      "2\n",
      "3\n",
      "4\n",
      "5\n",
      "6\n",
      "7\n",
      "8\n",
      "9\n"
     ]
    }
   ],
   "source": [
    "#E1. Implement range in a recursive fashion\n",
    "\n",
    "def print_range(n):\n",
    "    if n > 1:\n",
    "        print_range(n-1)\n",
    "        print(n-1)\n",
    "    \n",
    "print_range(10)"
   ]
  },
  {
   "cell_type": "markdown",
   "metadata": {},
   "source": [
    "El anterior es muy interesante porque si implementamos el print antes que la llamada recursiva, nos da la lista al revés. Es fácil de solucionar, solo cambiar el orden!"
   ]
  },
  {
   "cell_type": "code",
   "execution_count": 6,
   "metadata": {},
   "outputs": [
    {
     "name": "stdout",
     "output_type": "stream",
     "text": [
      "0\n",
      "1\n",
      "1\n",
      "2\n",
      "3\n",
      "5\n",
      "8\n",
      "13\n",
      "21\n",
      "34\n"
     ]
    }
   ],
   "source": [
    "#E2. Homework. Fibonacci\n",
    "\n",
    "def fibonacci(n):\n",
    "    if n == 0:\n",
    "        return 0\n",
    "    elif n == 1:\n",
    "        return 1\n",
    "    else:\n",
    "        return fibonacci(n-1) + fibonacci(n-2)\n",
    "# Test\n",
    "for i in range(10):\n",
    "    print (fibonacci(i))"
   ]
  },
  {
   "cell_type": "code",
   "execution_count": 38,
   "metadata": {},
   "outputs": [
    {
     "name": "stdout",
     "output_type": "stream",
     "text": [
      "AAAA\n",
      "AAAC\n",
      "AAAG\n",
      "AAAT\n",
      "AACA\n",
      "AACC\n",
      "AACG\n",
      "AACT\n",
      "AAGA\n",
      "AAGC\n",
      "AAGG\n",
      "AAGT\n",
      "AATA\n",
      "AATC\n",
      "AATG\n",
      "AATT\n",
      "ACAA\n",
      "ACAC\n",
      "ACAG\n",
      "ACAT\n",
      "ACCA\n",
      "ACCC\n",
      "ACCG\n",
      "ACCT\n",
      "ACGA\n",
      "ACGC\n",
      "ACGG\n",
      "ACGT\n",
      "ACTA\n",
      "ACTC\n",
      "ACTG\n",
      "ACTT\n",
      "AGAA\n",
      "AGAC\n",
      "AGAG\n",
      "AGAT\n",
      "AGCA\n",
      "AGCC\n",
      "AGCG\n",
      "AGCT\n",
      "AGGA\n",
      "AGGC\n",
      "AGGG\n",
      "AGGT\n",
      "AGTA\n",
      "AGTC\n",
      "AGTG\n",
      "AGTT\n",
      "ATAA\n",
      "ATAC\n",
      "ATAG\n",
      "ATAT\n",
      "ATCA\n",
      "ATCC\n",
      "ATCG\n",
      "ATCT\n",
      "ATGA\n",
      "ATGC\n",
      "ATGG\n",
      "ATGT\n",
      "ATTA\n",
      "ATTC\n",
      "ATTG\n",
      "ATTT\n",
      "CAAA\n",
      "CAAC\n",
      "CAAG\n",
      "CAAT\n",
      "CACA\n",
      "CACC\n",
      "CACG\n",
      "CACT\n",
      "CAGA\n",
      "CAGC\n",
      "CAGG\n",
      "CAGT\n",
      "CATA\n",
      "CATC\n",
      "CATG\n",
      "CATT\n",
      "CCAA\n",
      "CCAC\n",
      "CCAG\n",
      "CCAT\n",
      "CCCA\n",
      "CCCC\n",
      "CCCG\n",
      "CCCT\n",
      "CCGA\n",
      "CCGC\n",
      "CCGG\n",
      "CCGT\n",
      "CCTA\n",
      "CCTC\n",
      "CCTG\n",
      "CCTT\n",
      "CGAA\n",
      "CGAC\n",
      "CGAG\n",
      "CGAT\n",
      "CGCA\n",
      "CGCC\n",
      "CGCG\n",
      "CGCT\n",
      "CGGA\n",
      "CGGC\n",
      "CGGG\n",
      "CGGT\n",
      "CGTA\n",
      "CGTC\n",
      "CGTG\n",
      "CGTT\n",
      "CTAA\n",
      "CTAC\n",
      "CTAG\n",
      "CTAT\n",
      "CTCA\n",
      "CTCC\n",
      "CTCG\n",
      "CTCT\n",
      "CTGA\n",
      "CTGC\n",
      "CTGG\n",
      "CTGT\n",
      "CTTA\n",
      "CTTC\n",
      "CTTG\n",
      "CTTT\n",
      "GAAA\n",
      "GAAC\n",
      "GAAG\n",
      "GAAT\n",
      "GACA\n",
      "GACC\n",
      "GACG\n",
      "GACT\n",
      "GAGA\n",
      "GAGC\n",
      "GAGG\n",
      "GAGT\n",
      "GATA\n",
      "GATC\n",
      "GATG\n",
      "GATT\n",
      "GCAA\n",
      "GCAC\n",
      "GCAG\n",
      "GCAT\n",
      "GCCA\n",
      "GCCC\n",
      "GCCG\n",
      "GCCT\n",
      "GCGA\n",
      "GCGC\n",
      "GCGG\n",
      "GCGT\n",
      "GCTA\n",
      "GCTC\n",
      "GCTG\n",
      "GCTT\n",
      "GGAA\n",
      "GGAC\n",
      "GGAG\n",
      "GGAT\n",
      "GGCA\n",
      "GGCC\n",
      "GGCG\n",
      "GGCT\n",
      "GGGA\n",
      "GGGC\n",
      "GGGG\n",
      "GGGT\n",
      "GGTA\n",
      "GGTC\n",
      "GGTG\n",
      "GGTT\n",
      "GTAA\n",
      "GTAC\n",
      "GTAG\n",
      "GTAT\n",
      "GTCA\n",
      "GTCC\n",
      "GTCG\n",
      "GTCT\n",
      "GTGA\n",
      "GTGC\n",
      "GTGG\n",
      "GTGT\n",
      "GTTA\n",
      "GTTC\n",
      "GTTG\n",
      "GTTT\n",
      "TAAA\n",
      "TAAC\n",
      "TAAG\n",
      "TAAT\n",
      "TACA\n",
      "TACC\n",
      "TACG\n",
      "TACT\n",
      "TAGA\n",
      "TAGC\n",
      "TAGG\n",
      "TAGT\n",
      "TATA\n",
      "TATC\n",
      "TATG\n",
      "TATT\n",
      "TCAA\n",
      "TCAC\n",
      "TCAG\n",
      "TCAT\n",
      "TCCA\n",
      "TCCC\n",
      "TCCG\n",
      "TCCT\n",
      "TCGA\n",
      "TCGC\n",
      "TCGG\n",
      "TCGT\n",
      "TCTA\n",
      "TCTC\n",
      "TCTG\n",
      "TCTT\n",
      "TGAA\n",
      "TGAC\n",
      "TGAG\n",
      "TGAT\n",
      "TGCA\n",
      "TGCC\n",
      "TGCG\n",
      "TGCT\n",
      "TGGA\n",
      "TGGC\n",
      "TGGG\n",
      "TGGT\n",
      "TGTA\n",
      "TGTC\n",
      "TGTG\n",
      "TGTT\n",
      "TTAA\n",
      "TTAC\n",
      "TTAG\n",
      "TTAT\n",
      "TTCA\n",
      "TTCC\n",
      "TTCG\n",
      "TTCT\n",
      "TTGA\n",
      "TTGC\n",
      "TTGG\n",
      "TTGT\n",
      "TTTA\n",
      "TTTC\n",
      "TTTG\n",
      "TTTT\n"
     ]
    }
   ],
   "source": [
    "#E3. Implement the function kmers(k) that prints all possible k-mers given the length k:\n",
    "\n",
    "def kmer(k,text):\n",
    "    if k>0:\n",
    "        for c in \"ACGT\":\n",
    "            kmer(k-1,text+c)\n",
    "    else:\n",
    "        print(text)\n",
    "\n",
    "kmer(4,\"\")   "
   ]
  },
  {
   "cell_type": "markdown",
   "metadata": {},
   "source": [
    "## 3. BLOCK EXERCISES"
   ]
  },
  {
   "cell_type": "code",
   "execution_count": null,
   "metadata": {},
   "outputs": [],
   "source": [
    "#[E1] Implement a recursive function (i.e. remainder(n,d)) that computes the remainder of a division doing only subtractions and recursive calls.\n",
    "def remainder(n,d):\n",
    "    if n < d:\n",
    "        return n\n",
    "    else:\n",
    "        return remainder(n-d,d)"
   ]
  },
  {
   "cell_type": "code",
   "execution_count": 2,
   "metadata": {},
   "outputs": [
    {
     "data": {
      "text/plain": [
       "False"
      ]
     },
     "execution_count": 2,
     "metadata": {},
     "output_type": "execute_result"
    }
   ],
   "source": [
    "#E2. Mutually recursive functions are functions that call recursively to each other. Given the artificial example of computing odd/even using mutually recursive functions, complete the gaps.\n",
    "\n",
    "def is_even(n):\n",
    "    if n==0:\n",
    "        return True\n",
    "    else:\n",
    "        return is_odd(n-1)\n",
    "\n",
    "def is_odd(n):\n",
    "    if n==0:\n",
    "        return False\n",
    "    else:\n",
    "        return is_even(n-1)\n",
    "    \n",
    "is_even(9)"
   ]
  },
  {
   "cell_type": "code",
   "execution_count": 7,
   "metadata": {},
   "outputs": [
    {
     "name": "stdout",
     "output_type": "stream",
     "text": [
      "55\n"
     ]
    }
   ],
   "source": [
    "#[E3] Implement a more efficient version of the fibonacci function that avoids redundant calls.\n",
    "\n",
    "# Iterative (new syntax elements; check it out)\n",
    "def fibonacci_fast(n):\n",
    "    a,b = 0,1\n",
    "    for _ in range(n-1):\n",
    "        a,b = b,a+b\n",
    "    return a\n",
    "\n",
    "print(fibonacci_fast(10))"
   ]
  },
  {
   "cell_type": "code",
   "execution_count": 6,
   "metadata": {},
   "outputs": [
    {
     "name": "stdout",
     "output_type": "stream",
     "text": [
      "89\n"
     ]
    }
   ],
   "source": [
    "# Recursive\n",
    "def fibonacci_fast(n,current_n,value_n,value_n_1):\n",
    "    if current_n == n:\n",
    "        return value_n\n",
    "    else:\n",
    "        return fibonacci_fast(n,current_n+1,value_n+value_n_1,value_n);\n",
    "\n",
    "def fibonacci(n):\n",
    "    if n == 0:\n",
    "        return 1\n",
    "    else:\n",
    "        return fibonacci_fast(n,1,1,1)\n",
    "    \n",
    "print(fibonacci(10))"
   ]
  },
  {
   "cell_type": "markdown",
   "metadata": {},
   "source": [
    "Los ejercicios anteriores son muy complejos XD yo no puedo más. Es dynamic programming, es decir, ahorrar computación. No sé por qué no dan lo mismo, pero el código es muy chulo."
   ]
  }
 ],
 "metadata": {
  "kernelspec": {
   "display_name": "Python 3",
   "language": "python",
   "name": "python3"
  },
  "language_info": {
   "codemirror_mode": {
    "name": "ipython",
    "version": 3
   },
   "file_extension": ".py",
   "mimetype": "text/x-python",
   "name": "python",
   "nbconvert_exporter": "python",
   "pygments_lexer": "ipython3",
   "version": "3.7.3"
  }
 },
 "nbformat": 4,
 "nbformat_minor": 2
}
