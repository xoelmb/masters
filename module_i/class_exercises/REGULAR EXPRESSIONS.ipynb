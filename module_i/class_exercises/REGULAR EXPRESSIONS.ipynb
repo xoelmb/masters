{
 "cells": [
  {
   "cell_type": "markdown",
   "metadata": {},
   "source": [
    "# REGULAR EXPRESSIONS"
   ]
  },
  {
   "cell_type": "code",
   "execution_count": 1,
   "metadata": {},
   "outputs": [],
   "source": [
    "import re"
   ]
  },
  {
   "cell_type": "markdown",
   "metadata": {},
   "source": [
    "## 2. REGULAR EXPRESSIONS: EXERCISE\n",
    "Modify the code above to extract the chromosome name"
   ]
  },
  {
   "cell_type": "code",
   "execution_count": 2,
   "metadata": {},
   "outputs": [
    {
     "name": "stdout",
     "output_type": "stream",
     "text": [
      "The pattern was found: 'CHROMOSOME=Chr1'\n",
      "The chromosome is Chr1\n"
     ]
    }
   ],
   "source": [
    "text = \"ID=1889283    SEQ=ACGCATAGCT   POSITION=257644   CHROMOSOME=Chr1\"\n",
    "match = re.search(r'CHROMOSOME=(\\w+)',text)\n",
    "if match:\n",
    "    print(\"The pattern was found: '\" + match.group() + \"'\")\n",
    "    position = match.group(1)\n",
    "    print(\"The chromosome is \" + position)\n",
    "else:\n",
    "    print(\"Chromosome was not found\")\n"
   ]
  },
  {
   "cell_type": "markdown",
   "metadata": {},
   "source": [
    "## 2. REGULAR EXPRESSIONS: EXERCISES"
   ]
  },
  {
   "cell_type": "code",
   "execution_count": 7,
   "metadata": {},
   "outputs": [
    {
     "name": "stdout",
     "output_type": "stream",
     "text": [
      "GGTCC 6\n"
     ]
    }
   ],
   "source": [
    "#E1. look for GGACC or GGTCC\n",
    "\n",
    "def pattern(seq):\n",
    "    match = re.search(r'GG[TA]CC',seq)\n",
    "    return match\n",
    "\n",
    "matches=pattern(\"GSTAFNGGTCCJABFGGCCCKJB\")\n",
    "print(matches.group(),matches.start())"
   ]
  },
  {
   "cell_type": "code",
   "execution_count": 45,
   "metadata": {},
   "outputs": [
    {
     "name": "stdout",
     "output_type": "stream",
     "text": [
      "AACAC\n"
     ]
    }
   ],
   "source": [
    "#E2. Remove adaptor at the beginning\n",
    "\n",
    "def remove_adaptor(seq, adaptor):\n",
    "    new_seq = re.sub(('\\A'+adaptor),'', seq)\n",
    "    return new_seq\n",
    "\n",
    "\n",
    "print(remove_adaptor(\"ACGTAACAC\",\"ACGT\"))"
   ]
  },
  {
   "cell_type": "code",
   "execution_count": 44,
   "metadata": {},
   "outputs": [
    {
     "data": {
      "text/plain": [
       "'AACAC'"
      ]
     },
     "execution_count": 44,
     "metadata": {},
     "output_type": "execute_result"
    }
   ],
   "source": [
    "#E2. The profe's way\n",
    "\n",
    "def trim_adaptor(sequence, adaptor):\n",
    "    pattern = \"^%s[A]+\" % adaptor\n",
    "    match = re.search(pattern,sequence)\n",
    "    if match:\n",
    "        return sequence[len(adaptor):]\n",
    "    else:\n",
    "        return sequence\n",
    "    \n",
    "trim_adaptor(\"ACGTAACAC\",\"ACGT\")"
   ]
  },
  {
   "cell_type": "code",
   "execution_count": 63,
   "metadata": {},
   "outputs": [
    {
     "name": "stdout",
     "output_type": "stream",
     "text": [
      "[('10M', '10', 'M'), ('3D', '3', 'D'), ('5M', '5', 'M'), ('1I', '1', 'I'), ('10M', '10', 'M')]\n"
     ]
    }
   ],
   "source": [
    "#E3. CIGAR\n",
    "\n",
    "def cigar_trans(string):\n",
    "    match = re.findall(r'((\\d+)([MID]))',string)\n",
    "    print (match)\n",
    "\n",
    "\n",
    "CIGAR = \"10M3D5M1I10M\"\n",
    "\n",
    "cigar_trans(CIGAR)\n",
    "\n",
    "#result = [(“M”,10),(“D”,3),(“M”,5),(“I”,1) ,(“M”,10)]\n"
   ]
  },
  {
   "cell_type": "code",
   "execution_count": null,
   "metadata": {},
   "outputs": [],
   "source": []
  },
  {
   "cell_type": "code",
   "execution_count": null,
   "metadata": {},
   "outputs": [],
   "source": []
  },
  {
   "cell_type": "code",
   "execution_count": null,
   "metadata": {},
   "outputs": [],
   "source": []
  },
  {
   "cell_type": "code",
   "execution_count": null,
   "metadata": {},
   "outputs": [],
   "source": []
  },
  {
   "cell_type": "code",
   "execution_count": null,
   "metadata": {},
   "outputs": [],
   "source": []
  },
  {
   "cell_type": "code",
   "execution_count": null,
   "metadata": {},
   "outputs": [],
   "source": []
  },
  {
   "cell_type": "code",
   "execution_count": null,
   "metadata": {},
   "outputs": [],
   "source": []
  },
  {
   "cell_type": "code",
   "execution_count": null,
   "metadata": {},
   "outputs": [],
   "source": []
  },
  {
   "cell_type": "code",
   "execution_count": null,
   "metadata": {},
   "outputs": [],
   "source": []
  },
  {
   "cell_type": "code",
   "execution_count": null,
   "metadata": {},
   "outputs": [],
   "source": []
  },
  {
   "cell_type": "code",
   "execution_count": null,
   "metadata": {},
   "outputs": [],
   "source": []
  },
  {
   "cell_type": "code",
   "execution_count": null,
   "metadata": {},
   "outputs": [],
   "source": []
  }
 ],
 "metadata": {
  "kernelspec": {
   "display_name": "Python 3",
   "language": "python",
   "name": "python3"
  },
  "language_info": {
   "codemirror_mode": {
    "name": "ipython",
    "version": 3
   },
   "file_extension": ".py",
   "mimetype": "text/x-python",
   "name": "python",
   "nbconvert_exporter": "python",
   "pygments_lexer": "ipython3",
   "version": "3.7.3"
  }
 },
 "nbformat": 4,
 "nbformat_minor": 2
}
