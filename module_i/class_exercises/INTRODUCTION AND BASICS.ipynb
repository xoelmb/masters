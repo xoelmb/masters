{
 "cells": [
  {
   "cell_type": "markdown",
   "metadata": {},
   "source": [
    "# INTRODUCTION AND BASIC CONCEPTS\n",
    "## 1. Print function"
   ]
  },
  {
   "cell_type": "code",
   "execution_count": 1,
   "metadata": {},
   "outputs": [
    {
     "name": "stdout",
     "output_type": "stream",
     "text": [
      "My age is 24\n",
      "Xoel\n",
      "My name is Xoel\n"
     ]
    }
   ],
   "source": [
    "age=24\n",
    "print(\"My age is\",age)\n",
    "name=\"Xoel\"\n",
    "print(name)\n",
    "print(\"My name is \"+name)"
   ]
  },
  {
   "cell_type": "markdown",
   "metadata": {},
   "source": [
    "## 1. Expressions"
   ]
  },
  {
   "cell_type": "code",
   "execution_count": 2,
   "metadata": {},
   "outputs": [
    {
     "data": {
      "text/plain": [
       "42"
      ]
     },
     "execution_count": 2,
     "metadata": {},
     "output_type": "execute_result"
    }
   ],
   "source": [
    "42"
   ]
  },
  {
   "cell_type": "markdown",
   "metadata": {},
   "source": [
    "## 1. Arithmetic expressions"
   ]
  },
  {
   "cell_type": "markdown",
   "metadata": {},
   "source": [
    "<p>The remainer of a division is got by using %<br>\n",
    "The result of an arithmetic operation is float is the input are floats, integers if they're integers...<br>\n",
    "The scientific notation aeb (i.e. a*10^b) is a float by definition</p>"
   ]
  },
  {
   "cell_type": "code",
   "execution_count": 3,
   "metadata": {},
   "outputs": [
    {
     "data": {
      "text/plain": [
       "float"
      ]
     },
     "execution_count": 3,
     "metadata": {},
     "output_type": "execute_result"
    }
   ],
   "source": [
    "5/2\n",
    "\n",
    "int(5/2)\n",
    "\n",
    "5%2\n",
    "\n",
    "int(2.9)\n",
    "\n",
    "type(2e10)"
   ]
  },
  {
   "cell_type": "markdown",
   "metadata": {},
   "source": [
    "We can also use operators to modify on the go the value of a variable: += -= *= /= %="
   ]
  },
  {
   "cell_type": "code",
   "execution_count": 4,
   "metadata": {},
   "outputs": [
    {
     "name": "stdout",
     "output_type": "stream",
     "text": [
      "3\n",
      "6\n"
     ]
    }
   ],
   "source": [
    "x=3\n",
    "print(x)\n",
    "x*=1+1\n",
    "print(x)"
   ]
  },
  {
   "cell_type": "code",
   "execution_count": 5,
   "metadata": {},
   "outputs": [
    {
     "data": {
      "text/plain": [
       "2.3333333333333335"
      ]
     },
     "execution_count": 5,
     "metadata": {},
     "output_type": "execute_result"
    }
   ],
   "source": [
    "7/3"
   ]
  },
  {
   "cell_type": "markdown",
   "metadata": {},
   "source": [
    "## 1. Booleans"
   ]
  },
  {
   "cell_type": "markdown",
   "metadata": {},
   "source": [
    "Boolean values may be True or False.<br>\n",
    "Boolean operators output a boolean value. Those are equals, not equals, less/greater than, not, and, or."
   ]
  },
  {
   "cell_type": "markdown",
   "metadata": {},
   "source": [
    "## 1. Types and casting\n",
    "<p>Look at some examples on the slides. Multiplying an integer and a string results in the concatenation of the string as many times as the integer defines.<br>\n",
    "Variables have functions determined by their data type. Some other functions are not included in the data type, so we should call the function first and use the variable as an argument.</p>"
   ]
  },
  {
   "cell_type": "code",
   "execution_count": 6,
   "metadata": {},
   "outputs": [
    {
     "name": "stdout",
     "output_type": "stream",
     "text": [
      "7.0\n",
      "4.5\n",
      "7.0\n",
      "7\n"
     ]
    }
   ],
   "source": [
    "print(5+4*2/4)\n",
    "print((5+4)*2/4)\n",
    "print(5+4*(2/4))\n",
    "#The next one should be the output if using Python 2.7. But it does not.\n",
    "#Teacher says it should be 5 since 2/4=0.5, and 0.5 should be 0.\n",
    "print(int(5+4*(2/4)))"
   ]
  },
  {
   "cell_type": "markdown",
   "metadata": {},
   "source": [
    "Some examples of changing data types of different expressions are shown on the slides. Nothing really new here."
   ]
  },
  {
   "cell_type": "markdown",
   "metadata": {},
   "source": [
    "## 1. Variables\n",
    "Variables are not tied to a type.<br>\n",
    "Variables should be named after the content they store.\n",
    "## 1. Comments\n",
    "Using comments on your code helps understanding the code at a glance."
   ]
  },
  {
   "cell_type": "markdown",
   "metadata": {},
   "source": [
    "## 1. EXERCISES"
   ]
  },
  {
   "cell_type": "code",
   "execution_count": 7,
   "metadata": {},
   "outputs": [
    {
     "name": "stdout",
     "output_type": "stream",
     "text": [
      "False\n",
      "False\n",
      "True\n"
     ]
    }
   ],
   "source": [
    "x=(5+4*(2/4))>(5**2-3)\n",
    "print(x)\n",
    "x = not(((2/4)+2) <= (5**2-3) or (3*4+5) == (4*3+5))\n",
    "print(x)\n",
    "x = (\"Bioinformatics\" < \"TheRestOfTheSciences\")\n",
    "print(x)\n",
    "#When comparing strings, the lower value is assigned to the first one using an alphabetical order."
   ]
  },
  {
   "cell_type": "code",
   "execution_count": 8,
   "metadata": {},
   "outputs": [
    {
     "name": "stdout",
     "output_type": "stream",
     "text": [
      "stddev is 0.11239810200058241\n",
      "mean is 1.7233333333333334\n"
     ]
    }
   ],
   "source": [
    "# E1. Compute the mean height and the stddev of three students\n",
    "\n",
    "paul = 1.60\n",
    "sarah = 1.82\n",
    "robert = 1.75\n",
    "\n",
    "import statistics as stc\n",
    "print(\"stddev is\",stc.stdev([paul, sarah, robert]))\n",
    "print(\"mean is\",stc.mean([paul,sarah,robert]))"
   ]
  },
  {
   "cell_type": "code",
   "execution_count": 9,
   "metadata": {},
   "outputs": [
    {
     "name": "stdout",
     "output_type": "stream",
     "text": [
      "The average height is 1.7233333333333334 and the stddev is 0.11239810200058241\n"
     ]
    }
   ],
   "source": [
    "# How the class solved it\n",
    "\n",
    "paul = 1.60\n",
    "sarah = 1.82\n",
    "robert = 1.75\n",
    "\n",
    "average = (paul+sarah+robert)/3\n",
    "\n",
    "stddev = ((1/(3-1))*((paul-average)**2+(sarah-average)**2+(robert-average)**2))**(1/2)\n",
    "\n",
    "print(\"The average height is\",average,\"and the stddev is\",stddev)"
   ]
  },
  {
   "cell_type": "code",
   "execution_count": 10,
   "metadata": {},
   "outputs": [
    {
     "name": "stdout",
     "output_type": "stream",
     "text": [
      "This person has 41 years left\n"
     ]
    }
   ],
   "source": [
    "# E2. Compute the amount of years left to life for someone given his year_birth and year_deceased\n",
    "\n",
    "year_birth = 1995\n",
    "year_deceased = 2060\n",
    "year_current = 2019\n",
    "\n",
    "print(\"This person has\",year_deceased-year_current,\"years left\")"
   ]
  },
  {
   "cell_type": "markdown",
   "metadata": {},
   "source": [
    "## 2. Arguments to a script\n",
    "Arguments passed to python are stored in the sys.argv list. The base argument is the name of the script (sys.argv[0]), and the rest of the arguments are stored sequentially in that list. To access the list, we must import the module sys."
   ]
  },
  {
   "cell_type": "code",
   "execution_count": 13,
   "metadata": {},
   "outputs": [
    {
     "name": "stdout",
     "output_type": "stream",
     "text": [
      "The name of the script is /home/xoel/anaconda3/lib/python3.7/site-packages/ipykernel_launcher.py\n",
      "The number of arguments is 3\n",
      "The arguments are: ['/home/xoel/anaconda3/lib/python3.7/site-packages/ipykernel_launcher.py', '-f', '/home/xoel/.local/share/jupyter/runtime/kernel-0f835ab3-48ae-4f75-8adf-4b68ded57132.json']\n",
      "First argument is -f\n"
     ]
    }
   ],
   "source": [
    "# The code below is meant to be run from a console as a separate script. The code would be \"python program.py example\".\n",
    "\n",
    "import sys\n",
    "\n",
    "print(\"The name of the script is\",sys.argv[0])\n",
    "print(\"The number of arguments is\",len(sys.argv))\n",
    "print(\"The arguments are:\",str(sys.argv))\n",
    "print(\"First argument is\",sys.argv[1])"
   ]
  },
  {
   "cell_type": "markdown",
   "metadata": {},
   "source": [
    "## 2. CONDITIONAL EXERCISES"
   ]
  },
  {
   "cell_type": "code",
   "execution_count": 14,
   "metadata": {},
   "outputs": [
    {
     "ename": "ValueError",
     "evalue": "invalid literal for int() with base 10: '-f'",
     "output_type": "error",
     "traceback": [
      "\u001b[0;31m---------------------------------------------------------------------------\u001b[0m",
      "\u001b[0;31mValueError\u001b[0m                                Traceback (most recent call last)",
      "\u001b[0;32m<ipython-input-14-196b9ed26b23>\u001b[0m in \u001b[0;36m<module>\u001b[0;34m\u001b[0m\n\u001b[1;32m      3\u001b[0m \u001b[0;32mimport\u001b[0m \u001b[0msys\u001b[0m\u001b[0;34m\u001b[0m\u001b[0;34m\u001b[0m\u001b[0m\n\u001b[1;32m      4\u001b[0m \u001b[0;34m\u001b[0m\u001b[0m\n\u001b[0;32m----> 5\u001b[0;31m \u001b[0ma\u001b[0m\u001b[0;34m,\u001b[0m\u001b[0mb\u001b[0m\u001b[0;34m,\u001b[0m\u001b[0mc\u001b[0m\u001b[0;34m,\u001b[0m\u001b[0md\u001b[0m \u001b[0;34m=\u001b[0m \u001b[0mint\u001b[0m\u001b[0;34m(\u001b[0m\u001b[0msys\u001b[0m\u001b[0;34m.\u001b[0m\u001b[0margv\u001b[0m\u001b[0;34m[\u001b[0m\u001b[0;36m1\u001b[0m\u001b[0;34m]\u001b[0m\u001b[0;34m)\u001b[0m\u001b[0;34m,\u001b[0m \u001b[0mint\u001b[0m\u001b[0;34m(\u001b[0m\u001b[0msys\u001b[0m\u001b[0;34m.\u001b[0m\u001b[0margv\u001b[0m\u001b[0;34m[\u001b[0m\u001b[0;36m2\u001b[0m\u001b[0;34m]\u001b[0m\u001b[0;34m)\u001b[0m\u001b[0;34m,\u001b[0m \u001b[0mint\u001b[0m\u001b[0;34m(\u001b[0m\u001b[0msys\u001b[0m\u001b[0;34m.\u001b[0m\u001b[0margv\u001b[0m\u001b[0;34m[\u001b[0m\u001b[0;36m3\u001b[0m\u001b[0;34m]\u001b[0m\u001b[0;34m)\u001b[0m\u001b[0;34m,\u001b[0m \u001b[0mint\u001b[0m\u001b[0;34m(\u001b[0m\u001b[0msys\u001b[0m\u001b[0;34m.\u001b[0m\u001b[0margv\u001b[0m\u001b[0;34m[\u001b[0m\u001b[0;36m4\u001b[0m\u001b[0;34m]\u001b[0m\u001b[0;34m)\u001b[0m\u001b[0;34m\u001b[0m\u001b[0;34m\u001b[0m\u001b[0m\n\u001b[0m\u001b[1;32m      6\u001b[0m \u001b[0;34m\u001b[0m\u001b[0m\n\u001b[1;32m      7\u001b[0m \u001b[0;31m# This would make it:\u001b[0m\u001b[0;34m\u001b[0m\u001b[0;34m\u001b[0m\u001b[0;34m\u001b[0m\u001b[0m\n",
      "\u001b[0;31mValueError\u001b[0m: invalid literal for int() with base 10: '-f'"
     ]
    }
   ],
   "source": [
    "# E1. find maximum of 4 numbers. Meant to be used in shell\n",
    "\n",
    "import sys\n",
    "\n",
    "a,b,c,d = int(sys.argv[1]), int(sys.argv[2]), int(sys.argv[3]), int(sys.argv[4])\n",
    "\n",
    "# This would make it:\n",
    "# print(max([a,b,c,d]))\n",
    "\n",
    "#But we should use conditionals...\n",
    "\n",
    "if a>b and a>c and a>d:\n",
    "  print(a,\"is the greatest number.\")\n",
    "elif b>a and b>c and b>d:\n",
    "  print(b,\"is the greatest number.\")\n",
    "elif c>a and c>b and c>d:\n",
    "  print(c,\"is the greatest number.\")\n",
    "else:\n",
    "  print(d,\"is the greatest number.\")"
   ]
  },
  {
   "cell_type": "code",
   "execution_count": 15,
   "metadata": {},
   "outputs": [
    {
     "ename": "SyntaxError",
     "evalue": "unexpected EOF while parsing (<ipython-input-15-2b6130da81ab>, line 19)",
     "output_type": "error",
     "traceback": [
      "\u001b[0;36m  File \u001b[0;32m\"<ipython-input-15-2b6130da81ab>\"\u001b[0;36m, line \u001b[0;32m19\u001b[0m\n\u001b[0;31m    ##Comparar lo que quede\u001b[0m\n\u001b[0m                           ^\u001b[0m\n\u001b[0;31mSyntaxError\u001b[0m\u001b[0;31m:\u001b[0m unexpected EOF while parsing\n"
     ]
    }
   ],
   "source": [
    "#E2. 3 numbers, can be repeated. Specify which is the maximum and the number of timer it is repeated\n",
    "import sys\n",
    "\n",
    "a,b,c = int(sys.argv[1]), int(sys.argv[2]), int(sys.argv[3])\n",
    "\n",
    "if a == b:\n",
    "  if b == c:\n",
    "    print(\"There are 3 maximum numbers:\",a)\n",
    "  elif b > c:\n",
    "    print(\"There are 2 maximum numbers:\",a)\n",
    "  else:\n",
    "    print(\"There is 1 maximum number:\",c)\n",
    "elif b == c:\n",
    "  if b > a:\n",
    "    print(\"There are 2 maximum numbers:\",b)\n",
    "  else:\n",
    "    print(\"There is 1 maximum number:\",a)\n",
    "else:\n",
    "##Comparar lo que quede"
   ]
  },
  {
   "cell_type": "code",
   "execution_count": 16,
   "metadata": {},
   "outputs": [
    {
     "ename": "ValueError",
     "evalue": "invalid literal for int() with base 10: '-f'",
     "output_type": "error",
     "traceback": [
      "\u001b[0;31m---------------------------------------------------------------------------\u001b[0m",
      "\u001b[0;31mValueError\u001b[0m                                Traceback (most recent call last)",
      "\u001b[0;32m<ipython-input-16-435fce2e8c1f>\u001b[0m in \u001b[0;36m<module>\u001b[0;34m\u001b[0m\n\u001b[1;32m      3\u001b[0m \u001b[0;32mimport\u001b[0m \u001b[0msys\u001b[0m\u001b[0;34m\u001b[0m\u001b[0;34m\u001b[0m\u001b[0m\n\u001b[1;32m      4\u001b[0m \u001b[0;34m\u001b[0m\u001b[0m\n\u001b[0;32m----> 5\u001b[0;31m \u001b[0mR1_begin\u001b[0m\u001b[0;34m,\u001b[0m \u001b[0mR1_end\u001b[0m\u001b[0;34m,\u001b[0m \u001b[0mR2_begin\u001b[0m\u001b[0;34m,\u001b[0m \u001b[0mR2_end\u001b[0m \u001b[0;34m=\u001b[0m \u001b[0mint\u001b[0m\u001b[0;34m(\u001b[0m\u001b[0msys\u001b[0m\u001b[0;34m.\u001b[0m\u001b[0margv\u001b[0m\u001b[0;34m[\u001b[0m\u001b[0;36m1\u001b[0m\u001b[0;34m]\u001b[0m\u001b[0;34m)\u001b[0m\u001b[0;34m,\u001b[0m \u001b[0mint\u001b[0m\u001b[0;34m(\u001b[0m\u001b[0msys\u001b[0m\u001b[0;34m.\u001b[0m\u001b[0margv\u001b[0m\u001b[0;34m[\u001b[0m\u001b[0;36m2\u001b[0m\u001b[0;34m]\u001b[0m\u001b[0;34m)\u001b[0m\u001b[0;34m,\u001b[0m \u001b[0mint\u001b[0m\u001b[0;34m(\u001b[0m\u001b[0msys\u001b[0m\u001b[0;34m.\u001b[0m\u001b[0margv\u001b[0m\u001b[0;34m[\u001b[0m\u001b[0;36m3\u001b[0m\u001b[0;34m]\u001b[0m\u001b[0;34m)\u001b[0m\u001b[0;34m,\u001b[0m \u001b[0mint\u001b[0m\u001b[0;34m(\u001b[0m\u001b[0msys\u001b[0m\u001b[0;34m.\u001b[0m\u001b[0margv\u001b[0m\u001b[0;34m[\u001b[0m\u001b[0;36m4\u001b[0m\u001b[0;34m]\u001b[0m\u001b[0;34m)\u001b[0m\u001b[0;34m\u001b[0m\u001b[0;34m\u001b[0m\u001b[0m\n\u001b[0m\u001b[1;32m      6\u001b[0m \u001b[0;34m\u001b[0m\u001b[0m\n\u001b[1;32m      7\u001b[0m \u001b[0;32mif\u001b[0m \u001b[0;34m(\u001b[0m\u001b[0mR1_end\u001b[0m \u001b[0;34m>=\u001b[0m \u001b[0mR2_begin\u001b[0m \u001b[0;32mand\u001b[0m \u001b[0mR1_end\u001b[0m \u001b[0;34m<=\u001b[0m \u001b[0mR2_end\u001b[0m\u001b[0;34m)\u001b[0m \u001b[0;32mor\u001b[0m \u001b[0;34m(\u001b[0m\u001b[0mR1_begin\u001b[0m \u001b[0;34m<=\u001b[0m \u001b[0mR2_end\u001b[0m \u001b[0;32mand\u001b[0m \u001b[0mR1_begin\u001b[0m \u001b[0;34m>=\u001b[0m \u001b[0mR2_begin\u001b[0m\u001b[0;34m)\u001b[0m \u001b[0;32mor\u001b[0m \u001b[0;34m(\u001b[0m\u001b[0mR2_end\u001b[0m \u001b[0;34m>=\u001b[0m \u001b[0mR1_begin\u001b[0m \u001b[0;32mand\u001b[0m \u001b[0mR2_end\u001b[0m \u001b[0;34m<=\u001b[0m \u001b[0mR1_end\u001b[0m\u001b[0;34m)\u001b[0m \u001b[0;32mor\u001b[0m \u001b[0;34m(\u001b[0m\u001b[0mR2_begin\u001b[0m \u001b[0;34m<=\u001b[0m \u001b[0mR1_end\u001b[0m \u001b[0;32mand\u001b[0m \u001b[0mR2_begin\u001b[0m \u001b[0;34m>=\u001b[0m \u001b[0mR1_begin\u001b[0m\u001b[0;34m)\u001b[0m\u001b[0;34m:\u001b[0m\u001b[0;34m\u001b[0m\u001b[0;34m\u001b[0m\u001b[0m\n",
      "\u001b[0;31mValueError\u001b[0m: invalid literal for int() with base 10: '-f'"
     ]
    }
   ],
   "source": [
    "#E3. Check if two sequences are overlapping given their positions.\n",
    "\n",
    "import sys\n",
    "\n",
    "R1_begin, R1_end, R2_begin, R2_end = int(sys.argv[1]), int(sys.argv[2]), int(sys.argv[3]), int(sys.argv[4])\n",
    "\n",
    "if (R1_end >= R2_begin and R1_end <= R2_end) or (R1_begin <= R2_end and R1_begin >= R2_begin) or (R2_end >= R1_begin and R2_end <= R1_end) or (R2_begin <= R1_end and R2_begin >= R1_begin):\n",
    "  print(\"Both sequences are overlapping.\")\n",
    "else:\n",
    "  print(\"The sequences are not overlapping.\")"
   ]
  },
  {
   "cell_type": "markdown",
   "metadata": {},
   "source": [
    "How the professor solved it:\n",
    "<br>Vamos a comprobar simplemente si están separados o no, y para eso simplemente hay que hacer:"
   ]
  },
  {
   "cell_type": "markdown",
   "metadata": {},
   "source": [
    "not(p1e<p2b or p2e<p1b)"
   ]
  },
  {
   "cell_type": "markdown",
   "metadata": {},
   "source": [
    "## 2. Iterative construct\n",
    "While is used to control more complex conditions. For is mostly used with enumerations."
   ]
  },
  {
   "cell_type": "markdown",
   "metadata": {},
   "source": [
    "## 2. ITERATION EXERCISES"
   ]
  },
  {
   "cell_type": "code",
   "execution_count": 17,
   "metadata": {},
   "outputs": [
    {
     "name": "stdout",
     "output_type": "stream",
     "text": [
      "1\n",
      "3\n",
      "5\n",
      "7\n",
      "9\n",
      "11\n",
      "13\n",
      "15\n",
      "17\n",
      "19\n",
      "21\n",
      "23\n",
      "25\n",
      "27\n",
      "29\n",
      "31\n",
      "33\n",
      "35\n",
      "37\n",
      "39\n",
      "41\n",
      "43\n",
      "45\n",
      "47\n",
      "49\n",
      "51\n",
      "53\n",
      "55\n",
      "57\n",
      "59\n",
      "61\n",
      "63\n",
      "65\n",
      "67\n",
      "69\n",
      "71\n",
      "73\n",
      "75\n",
      "77\n",
      "79\n",
      "81\n",
      "83\n",
      "85\n",
      "87\n",
      "89\n",
      "91\n",
      "93\n",
      "95\n",
      "97\n",
      "99\n"
     ]
    }
   ],
   "source": [
    "#E1. while\n",
    "\n",
    "i=1\n",
    "\n",
    "while i <= 100:\n",
    "  if (i%2 != 0):\n",
    "    print(i)\n",
    "  i+=1"
   ]
  },
  {
   "cell_type": "code",
   "execution_count": 18,
   "metadata": {},
   "outputs": [
    {
     "name": "stdout",
     "output_type": "stream",
     "text": [
      "1\n",
      "3\n",
      "5\n",
      "7\n",
      "9\n",
      "11\n",
      "13\n",
      "15\n",
      "17\n",
      "19\n",
      "21\n",
      "23\n",
      "25\n",
      "27\n",
      "29\n",
      "31\n",
      "33\n",
      "35\n",
      "37\n",
      "39\n",
      "41\n",
      "43\n",
      "45\n",
      "47\n",
      "49\n",
      "51\n",
      "53\n",
      "55\n",
      "57\n",
      "59\n",
      "61\n",
      "63\n",
      "65\n",
      "67\n",
      "69\n",
      "71\n",
      "73\n",
      "75\n",
      "77\n",
      "79\n",
      "81\n",
      "83\n",
      "85\n",
      "87\n",
      "89\n",
      "91\n",
      "93\n",
      "95\n",
      "97\n",
      "99\n"
     ]
    }
   ],
   "source": [
    "#E1. for\n",
    "\n",
    "i=1\n",
    "\n",
    "for i in range(1,101):\n",
    "  if (i%2 != 0):\n",
    "    print(i)"
   ]
  },
  {
   "cell_type": "code",
   "execution_count": 19,
   "metadata": {},
   "outputs": [
    {
     "name": "stdout",
     "output_type": "stream",
     "text": [
      "0 + 50 = 50\n",
      "1 + 49 = 50\n",
      "2 + 48 = 50\n",
      "3 + 47 = 50\n",
      "4 + 46 = 50\n",
      "5 + 45 = 50\n",
      "6 + 44 = 50\n",
      "7 + 43 = 50\n",
      "8 + 42 = 50\n",
      "9 + 41 = 50\n",
      "10 + 40 = 50\n",
      "11 + 39 = 50\n",
      "12 + 38 = 50\n",
      "13 + 37 = 50\n",
      "14 + 36 = 50\n",
      "15 + 35 = 50\n",
      "16 + 34 = 50\n",
      "17 + 33 = 50\n",
      "18 + 32 = 50\n",
      "19 + 31 = 50\n",
      "20 + 30 = 50\n",
      "21 + 29 = 50\n",
      "22 + 28 = 50\n",
      "23 + 27 = 50\n",
      "24 + 26 = 50\n",
      "25 + 25 = 50\n",
      "26 + 24 = 50\n",
      "27 + 23 = 50\n",
      "28 + 22 = 50\n",
      "29 + 21 = 50\n",
      "30 + 20 = 50\n",
      "31 + 19 = 50\n",
      "32 + 18 = 50\n",
      "33 + 17 = 50\n",
      "34 + 16 = 50\n",
      "35 + 15 = 50\n",
      "36 + 14 = 50\n",
      "37 + 13 = 50\n",
      "38 + 12 = 50\n",
      "39 + 11 = 50\n",
      "40 + 10 = 50\n",
      "41 + 9 = 50\n",
      "42 + 8 = 50\n",
      "43 + 7 = 50\n",
      "44 + 6 = 50\n",
      "45 + 5 = 50\n",
      "46 + 4 = 50\n",
      "47 + 3 = 50\n",
      "48 + 2 = 50\n",
      "49 + 1 = 50\n",
      "50 + 0 = 50\n"
     ]
    }
   ],
   "source": [
    "#E2.\n",
    "\n",
    "for i in range(0,51):\n",
    "  for j in range (0,51):\n",
    "    if i+j == 50:\n",
    "        print(i,\"+\",j,\"= 50\")"
   ]
  },
  {
   "cell_type": "code",
   "execution_count": 20,
   "metadata": {},
   "outputs": [
    {
     "name": "stdout",
     "output_type": "stream",
     "text": [
      "1 AAAC\n",
      "2 AAAG\n",
      "3 AAAT\n",
      "4 AACA\n",
      "5 AACC\n",
      "6 AACG\n",
      "7 AACT\n",
      "8 AAGA\n",
      "9 AAGC\n",
      "10 AAGG\n",
      "11 AAGT\n",
      "12 AATA\n",
      "13 AATC\n",
      "14 AATG\n",
      "15 AATT\n",
      "16 ACAA\n",
      "17 ACAC\n",
      "18 ACAG\n",
      "19 ACAT\n",
      "20 ACCA\n",
      "21 ACCC\n",
      "22 ACCG\n",
      "23 ACCT\n",
      "24 ACGA\n",
      "25 ACGC\n",
      "26 ACGG\n",
      "27 ACGT\n",
      "28 ACTA\n",
      "29 ACTC\n",
      "30 ACTG\n",
      "31 ACTT\n",
      "32 AGAA\n",
      "33 AGAC\n",
      "34 AGAG\n",
      "35 AGAT\n",
      "36 AGCA\n",
      "37 AGCC\n",
      "38 AGCG\n",
      "39 AGCT\n",
      "40 AGGA\n",
      "41 AGGC\n",
      "42 AGGG\n",
      "43 AGGT\n",
      "44 AGTA\n",
      "45 AGTC\n",
      "46 AGTG\n",
      "47 AGTT\n",
      "48 ATAA\n",
      "49 ATAC\n",
      "50 ATAG\n",
      "51 ATAT\n",
      "52 ATCA\n",
      "53 ATCC\n",
      "54 ATCG\n",
      "55 ATCT\n",
      "56 ATGA\n",
      "57 ATGC\n",
      "58 ATGG\n",
      "59 ATGT\n",
      "60 ATTA\n",
      "61 ATTC\n",
      "62 ATTG\n",
      "63 ATTT\n",
      "64 CAAA\n",
      "65 CAAC\n",
      "66 CAAG\n",
      "67 CAAT\n",
      "68 CACA\n",
      "69 CACC\n",
      "70 CACG\n",
      "71 CACT\n",
      "72 CAGA\n",
      "73 CAGC\n",
      "74 CAGG\n",
      "75 CAGT\n",
      "76 CATA\n",
      "77 CATC\n",
      "78 CATG\n",
      "79 CATT\n",
      "80 CCAA\n",
      "81 CCAC\n",
      "82 CCAG\n",
      "83 CCAT\n",
      "84 CCCA\n",
      "85 CCCG\n",
      "86 CCCT\n",
      "87 CCGA\n",
      "88 CCGC\n",
      "89 CCGG\n",
      "90 CCGT\n",
      "91 CCTA\n",
      "92 CCTC\n",
      "93 CCTG\n",
      "94 CCTT\n",
      "95 CGAA\n",
      "96 CGAC\n",
      "97 CGAG\n",
      "98 CGAT\n",
      "99 CGCA\n",
      "100 CGCC\n",
      "101 CGCG\n",
      "102 CGCT\n",
      "103 CGGA\n",
      "104 CGGC\n",
      "105 CGGG\n",
      "106 CGGT\n",
      "107 CGTA\n",
      "108 CGTC\n",
      "109 CGTG\n",
      "110 CGTT\n",
      "111 CTAA\n",
      "112 CTAC\n",
      "113 CTAG\n",
      "114 CTAT\n",
      "115 CTCA\n",
      "116 CTCC\n",
      "117 CTCG\n",
      "118 CTCT\n",
      "119 CTGA\n",
      "120 CTGC\n",
      "121 CTGG\n",
      "122 CTGT\n",
      "123 CTTA\n",
      "124 CTTC\n",
      "125 CTTG\n",
      "126 CTTT\n",
      "127 GAAA\n",
      "128 GAAC\n",
      "129 GAAG\n",
      "130 GAAT\n",
      "131 GACA\n",
      "132 GACC\n",
      "133 GACG\n",
      "134 GACT\n",
      "135 GAGA\n",
      "136 GAGC\n",
      "137 GAGG\n",
      "138 GAGT\n",
      "139 GATA\n",
      "140 GATC\n",
      "141 GATG\n",
      "142 GATT\n",
      "143 GCAA\n",
      "144 GCAC\n",
      "145 GCAG\n",
      "146 GCAT\n",
      "147 GCCA\n",
      "148 GCCC\n",
      "149 GCCG\n",
      "150 GCCT\n",
      "151 GCGA\n",
      "152 GCGC\n",
      "153 GCGG\n",
      "154 GCGT\n",
      "155 GCTA\n",
      "156 GCTC\n",
      "157 GCTG\n",
      "158 GCTT\n",
      "159 GGAA\n",
      "160 GGAC\n",
      "161 GGAG\n",
      "162 GGAT\n",
      "163 GGCA\n",
      "164 GGCC\n",
      "165 GGCG\n",
      "166 GGCT\n",
      "167 GGGA\n",
      "168 GGGC\n",
      "169 GGGT\n",
      "170 GGTA\n",
      "171 GGTC\n",
      "172 GGTG\n",
      "173 GGTT\n",
      "174 GTAA\n",
      "175 GTAC\n",
      "176 GTAG\n",
      "177 GTAT\n",
      "178 GTCA\n",
      "179 GTCC\n",
      "180 GTCG\n",
      "181 GTCT\n",
      "182 GTGA\n",
      "183 GTGC\n",
      "184 GTGG\n",
      "185 GTGT\n",
      "186 GTTA\n",
      "187 GTTC\n",
      "188 GTTG\n",
      "189 GTTT\n",
      "190 TAAA\n",
      "191 TAAC\n",
      "192 TAAG\n",
      "193 TAAT\n",
      "194 TACA\n",
      "195 TACC\n",
      "196 TACG\n",
      "197 TACT\n",
      "198 TAGA\n",
      "199 TAGC\n",
      "200 TAGG\n",
      "201 TAGT\n",
      "202 TATA\n",
      "203 TATC\n",
      "204 TATG\n",
      "205 TATT\n",
      "206 TCAA\n",
      "207 TCAC\n",
      "208 TCAG\n",
      "209 TCAT\n",
      "210 TCCA\n",
      "211 TCCC\n",
      "212 TCCG\n",
      "213 TCCT\n",
      "214 TCGA\n",
      "215 TCGC\n",
      "216 TCGG\n",
      "217 TCGT\n",
      "218 TCTA\n",
      "219 TCTC\n",
      "220 TCTG\n",
      "221 TCTT\n",
      "222 TGAA\n",
      "223 TGAC\n",
      "224 TGAG\n",
      "225 TGAT\n",
      "226 TGCA\n",
      "227 TGCC\n",
      "228 TGCG\n",
      "229 TGCT\n",
      "230 TGGA\n",
      "231 TGGC\n",
      "232 TGGG\n",
      "233 TGGT\n",
      "234 TGTA\n",
      "235 TGTC\n",
      "236 TGTG\n",
      "237 TGTT\n",
      "238 TTAA\n",
      "239 TTAC\n",
      "240 TTAG\n",
      "241 TTAT\n",
      "242 TTCA\n",
      "243 TTCC\n",
      "244 TTCG\n",
      "245 TTCT\n",
      "246 TTGA\n",
      "247 TTGC\n",
      "248 TTGG\n",
      "249 TTGT\n",
      "250 TTTA\n",
      "251 TTTC\n",
      "252 TTTG\n"
     ]
    }
   ],
   "source": [
    "#E3. Every combination of AGCT except for those of only 1 letter.\n",
    "\n",
    "letters = [\"A\",\"C\",\"G\",\"T\"]\n",
    "counter = 0\n",
    "\n",
    "for i in letters:\n",
    "    for j in letters:\n",
    "        for k in letters:\n",
    "            for l in letters:\n",
    "                if not(i == j and j==k and k==l):\n",
    "                    counter+=1\n",
    "                    print(counter,i+j+k+l)"
   ]
  },
  {
   "cell_type": "markdown",
   "metadata": {},
   "source": [
    "## 3. BLOCK EXERCISES"
   ]
  },
  {
   "cell_type": "code",
   "execution_count": 21,
   "metadata": {},
   "outputs": [
    {
     "name": "stdout",
     "output_type": "stream",
     "text": [
      "                                                                           Hello\n"
     ]
    }
   ],
   "source": [
    "#E1.\n",
    "s=\"Hello\"\n",
    "slen=5\n",
    "screen=80\n",
    "printer=\" \"*(screen-slen)\n",
    "print(printer+s)"
   ]
  },
  {
   "cell_type": "code",
   "execution_count": null,
   "metadata": {},
   "outputs": [],
   "source": [
    "#E2 & E3\n",
    "print(\"SOLVED IN THE SLIDES\")"
   ]
  }
 ],
 "metadata": {
  "kernelspec": {
   "display_name": "Python 3",
   "language": "python",
   "name": "python3"
  },
  "language_info": {
   "codemirror_mode": {
    "name": "ipython",
    "version": 3
   },
   "file_extension": ".py",
   "mimetype": "text/x-python",
   "name": "python",
   "nbconvert_exporter": "python",
   "pygments_lexer": "ipython3",
   "version": "3.7.3"
  }
 },
 "nbformat": 4,
 "nbformat_minor": 2
}
