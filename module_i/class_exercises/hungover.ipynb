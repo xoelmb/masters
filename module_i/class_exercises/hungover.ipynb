{
 "cells": [
  {
   "cell_type": "markdown",
   "metadata": {},
   "source": [
    "---"
   ]
  },
  {
   "cell_type": "code",
   "execution_count": null,
   "metadata": {},
   "outputs": [],
   "source": [
    "def get_par(arguments):\n",
    "    \n",
    "    parameters={}\n",
    "    i=1\n",
    "    while i<len(arguments):\n",
    "\n",
    "        if arguments[i]==\"--input\":            \n",
    "            parameters[\"input_file\"]=arguments[i+1]\n",
    "            \n",
    "        elif arguments[i]==\"--output\":            \n",
    "            parameters[\"output_file\"]=arguments[i+1]\n",
    "        \n",
    "        elif arguments[i]==\"--operation\":\n",
    "            if arguments[i+1] == \"rc\" or arguments[i+1] == \"trim\" or arguments[i+1] == \"adaptor-removal\":\n",
    "                parameters[\"operation\"]=arguments[i+1]\n",
    "            else:\n",
    "                print(\"Invalid operation mode. Available operations: rc, trim and adaptor-removal.\")\n",
    "        \n",
    "        elif arguments[i]==\"--trim-left\":            \n",
    "            try:\n",
    "                int(arguments[i+1])\n",
    "            except:\n",
    "                print(\"Trimming parameters must be a number.\")\n",
    "            if int(arguments[i+1]) < 0:\n",
    "                print(\"Invalid --trim-left value. A number greater or equal to 0 is expected.\")\n",
    "            else:\n",
    "                parameters[\"trim_left\"]=int(arguments[i+1])\n",
    "        \n",
    "        elif arguments[i]==\"--trim-right\":            \n",
    "            try:\n",
    "                int(arguments[i+1])\n",
    "            except:\n",
    "                print(\"Trimming parameters must be a number.\")\n",
    "            if int(arguments[i+1]) < 0:\n",
    "                print(\"Invalid --trim-right value. A number greater or equal to 0 is expected.\")\n",
    "            else:\n",
    "                parameters[\"trim_right\"]=int(arguments[i+1])\n",
    "        \n",
    "        elif arguments[i]==\"--adaptor\":            \n",
    "            parameters[\"adaptor\"]=arguments[i+1]\n",
    "        \n",
    "        else:\n",
    "            print(\"Argument not expected:\",arguments[i])\n",
    "            \n",
    "        i+=2\n",
    "    \n",
    "    if parameters[\"operation\"]==\"trim\" and not parameters[\"trim-left\"] and not parameters[\"trim-right\"]:\n",
    "        print(\"Trimming requires at least one additional argument: trim-left and/or trim-right\")\n",
    "    "
   ]
  },
  {
   "cell_type": "code",
   "execution_count": 8,
   "metadata": {},
   "outputs": [
    {
     "data": {
      "text/plain": [
       "'ha'"
      ]
     },
     "execution_count": 8,
     "metadata": {},
     "output_type": "execute_result"
    }
   ],
   "source": [
    "parameters={}\n",
    "parameters[\"operation\"]=\"ha\"\n",
    "parameters[\"operation\"]"
   ]
  }
 ],
 "metadata": {
  "kernelspec": {
   "display_name": "Python 3",
   "language": "python",
   "name": "python3"
  },
  "language_info": {
   "codemirror_mode": {
    "name": "ipython",
    "version": 3
   },
   "file_extension": ".py",
   "mimetype": "text/x-python",
   "name": "python",
   "nbconvert_exporter": "python",
   "pygments_lexer": "ipython3",
   "version": "3.7.3"
  }
 },
 "nbformat": 4,
 "nbformat_minor": 2
}
