{
 "cells": [
  {
   "cell_type": "markdown",
   "metadata": {},
   "source": [
    "# Remark: LATEX"
   ]
  },
  {
   "cell_type": "markdown",
   "metadata": {},
   "source": [
    "Usamos LATEX en el notebook con casillas markdown y las entiende. Las ecuaciones se ponen entre dolares $$:"
   ]
  },
  {
   "cell_type": "raw",
   "metadata": {},
   "source": [
    "$$ d=\\frac{a}{b²} $$"
   ]
  },
  {
   "cell_type": "markdown",
   "metadata": {},
   "source": [
    "$$ d=\\frac{a}{b²} $$"
   ]
  },
  {
   "cell_type": "markdown",
   "metadata": {},
   "source": [
    "## 1. STRINGS. EXERCISES"
   ]
  },
  {
   "cell_type": "code",
   "execution_count": 2,
   "metadata": {},
   "outputs": [
    {
     "name": "stdout",
     "output_type": "stream",
     "text": [
      "TTTGCA\n"
     ]
    }
   ],
   "source": [
    "#E1. Reverse of a sequence\n",
    "def reverse(seq):\n",
    "    return(seq[::-1])\n",
    "\n",
    "seq=\"ACGTTT\"\n",
    "print(reverse(seq))"
   ]
  },
  {
   "cell_type": "code",
   "execution_count": 3,
   "metadata": {},
   "outputs": [
    {
     "name": "stdout",
     "output_type": "stream",
     "text": [
      "TTTTCGA\n"
     ]
    }
   ],
   "source": [
    "#E2. Reverse (iteratively)\n",
    "\n",
    "def reverse(seq):\n",
    "    rev=\"\"\n",
    "    i = len(seq)-1\n",
    "    while i>=0:\n",
    "        rev += seq[i]\n",
    "        i-=1\n",
    "    return rev\n",
    "print(reverse(\"AGCTTTT\"))"
   ]
  },
  {
   "cell_type": "code",
   "execution_count": null,
   "metadata": {},
   "outputs": [],
   "source": [
    "#Lo hay con un for en las soluciones"
   ]
  },
  {
   "cell_type": "code",
   "execution_count": 4,
   "metadata": {},
   "outputs": [
    {
     "name": "stdout",
     "output_type": "stream",
     "text": [
      "None\n"
     ]
    }
   ],
   "source": [
    "#E3. Reverse recursively mi intento\n",
    "\n",
    "def reverse(seq):\n",
    "    rev=\"\"\n",
    "    rev+=seq[len(seq)-1]\n",
    "    if len(seq)>1:\n",
    "        reverse(seq[:-1:1])\n",
    "        \n",
    "print(reverse(\"AGCTTTT\"))"
   ]
  },
  {
   "cell_type": "code",
   "execution_count": 10,
   "metadata": {},
   "outputs": [
    {
     "name": "stdout",
     "output_type": "stream",
     "text": [
      "AGTAA\n"
     ]
    }
   ],
   "source": [
    "#E3 profe\n",
    "\n",
    "def reverse(seq):\n",
    "    if len(seq)==1:\n",
    "        return seq\n",
    "    else:\n",
    "        return reverse(seq[1:])+seq[0]\n",
    "\n",
    "print(reverse(\"AATGA\"))"
   ]
  },
  {
   "cell_type": "markdown",
   "metadata": {},
   "source": [
    "En vez de poner el último de primero, estamos poniendo el primero de último. Es el orden lo que importa, y por eso está así el return del else."
   ]
  },
  {
   "cell_type": "markdown",
   "metadata": {},
   "source": [
    "## 1. String reverse. Generator expressions"
   ]
  },
  {
   "cell_type": "code",
   "execution_count": 6,
   "metadata": {},
   "outputs": [
    {
     "name": "stdout",
     "output_type": "stream",
     "text": [
      "ACATTAG\n"
     ]
    }
   ],
   "source": [
    "def reverse(sequence):\n",
    "    return \"\".join(sequence[i] for i in range(len(sequence)-1,-1,-1))\n",
    "\n",
    "print(reverse(\"GATTACA\"))"
   ]
  },
  {
   "cell_type": "markdown",
   "metadata": {},
   "source": [
    "## 2. Python Collections\n",
    "Mutable and inmutable data types.\n",
    "- Strings are indexed but unmutable \n",
    "- Lists can hold heterogeneous content. Different data types can be stored in a list. It's mutable\n",
    "- A tuple of defined length is not mutable. Apart from that, it's the same as lists.\n",
    "- Dictionaries and sets are collections of unordered and mutable elements. Sets are not indexed, while dictionaries are so.\n"
   ]
  },
  {
   "cell_type": "markdown",
   "metadata": {},
   "source": [
    "We can check if a given element is stored in my list (it uses a for loop to check if any of the elements equals to the requested element). If my list is big enough, it can take a lot of time to complete."
   ]
  },
  {
   "cell_type": "raw",
   "metadata": {},
   "source": [
    "if X in my_list:\n",
    "    print(\"Wow\")"
   ]
  },
  {
   "cell_type": "markdown",
   "metadata": {},
   "source": [
    "## 2. List"
   ]
  },
  {
   "cell_type": "code",
   "execution_count": 5,
   "metadata": {},
   "outputs": [
    {
     "name": "stdout",
     "output_type": "stream",
     "text": [
      "5\n",
      "4\n",
      "3\n",
      "2\n",
      "1\n",
      "0\n"
     ]
    }
   ],
   "source": [
    "# Reverse loop\n",
    "test_list = [0, 1, 2, 3, 4, 5]\n",
    "\n",
    "i = len(test_list)-1\n",
    "\n",
    "while i >= 0:\n",
    "    print(test_list[i])\n",
    "    i -= 1"
   ]
  },
  {
   "cell_type": "markdown",
   "metadata": {},
   "source": [
    "## 2. List references and copies\n",
    "Python uses references when we try to alias one new list to an existing one. If one of them is modified, the other one will also change. The thing is both are references to the same memory space. It's a shared space, not two different memory locations. <br>We should use insted copy or methods/functions that uses copy implicitly (most of them), such as slice. This apply to most basic data types. To use copy, we should import copy and use the function copy.copy<br>When you use slices, or copies for this matter, but they aren't assigned to any variable (it has no pointer or reference), they are stored in memory but you cannot reference them back. Garbain collector should remove them from memory.\n",
    "## 2. LISTS. EXERCISES"
   ]
  },
  {
   "cell_type": "code",
   "execution_count": 6,
   "metadata": {},
   "outputs": [
    {
     "name": "stdout",
     "output_type": "stream",
     "text": [
      "55\n"
     ]
    }
   ],
   "source": [
    "#E1\n",
    "\n",
    "def add_list(l):\n",
    "    add=0\n",
    "    for x in l:\n",
    "        add+=x   \n",
    "    return(add)\n",
    "\n",
    "print(add_list([1,2,3,4,5,6,7,8,9,10]))"
   ]
  },
  {
   "cell_type": "code",
   "execution_count": 19,
   "metadata": {},
   "outputs": [
    {
     "name": "stdout",
     "output_type": "stream",
     "text": [
      "-1\n"
     ]
    }
   ],
   "source": [
    "#E2.a\n",
    "\n",
    "def search_list(l,e):\n",
    "    indexes=[]\n",
    "    for i in range(0,len(l)):\n",
    "        if l[i] == e:\n",
    "            indexes.append(i)\n",
    "    if len(indexes) > 0:\n",
    "        return(indexes)\n",
    "    else:\n",
    "        return(\"-1\")\n",
    "        \n",
    "        \n",
    "print(search_list([0,1,2,3,4,5,6,7,8,9,9,1,2,4,5,9,8,1],11))\n"
   ]
  },
  {
   "cell_type": "code",
   "execution_count": 11,
   "metadata": {},
   "outputs": [
    {
     "name": "stdout",
     "output_type": "stream",
     "text": [
      "-1\n"
     ]
    }
   ],
   "source": [
    "#E2.a por el profe, más simple\n",
    "\n",
    "def search(my_list, element):\n",
    "    i=0\n",
    "    for x in my_list:\n",
    "        if x == element:\n",
    "            return i\n",
    "        i+=1\n",
    "    return -1\n",
    "\n",
    "print(search([0,1,2,3,4,5,6,7,8,9,9,1,2,4,5,9,8,1],11))"
   ]
  },
  {
   "cell_type": "raw",
   "metadata": {},
   "source": [
    "#E2.b lo que yo estaba haciendo\n",
    "\n",
    "def rec_sch(l,e):\n",
    "    print(len(l))\n",
    "    print(e)\n",
    "    if len(l) >0:\n",
    "        print(\"It's >0\")\n",
    "        if e == l[len(l)-1]:\n",
    "            print(\"It's inside\")\n",
    "            l.pop()\n",
    "            return(len(l), rec_sch(l,e))\n",
    "        else:\n",
    "            print(\"it's not inside\")\n",
    "            l.pop()\n",
    "            return(rec_sch(l,e))\n",
    "    else:\n",
    "        return\n",
    "\n",
    "print(rec_sch([1,2,3,4,5,6,7,8,9],9))"
   ]
  },
  {
   "cell_type": "code",
   "execution_count": 12,
   "metadata": {},
   "outputs": [],
   "source": [
    "def search_rec(my_list, element, index):\n",
    "    if len(my_list) == 0:\n",
    "        return -1\n",
    "    if my_list[0] == element:\n",
    "        return index\n",
    "    else:\n",
    "        return search_rec(my_list[1:],element,index+1)\n",
    "def search(my_list, element):\n",
    "    search_rec(my_list, element, 0)"
   ]
  },
  {
   "cell_type": "code",
   "execution_count": 13,
   "metadata": {},
   "outputs": [
    {
     "name": "stdout",
     "output_type": "stream",
     "text": [
      "[2, 3, 4, 6, 8]\n"
     ]
    }
   ],
   "source": [
    "#E3.a\n",
    "\n",
    "def inter_list(l,k):\n",
    "    inter=[]\n",
    "    for x in l:\n",
    "        for y in k:\n",
    "            if x == y and not x in inter:\n",
    "                inter.append(x)\n",
    "    return inter\n",
    "\n",
    "\n",
    "print(inter_list([1,2,3,4,5,6,7,8,9],[2,4,6,8,10,3]))"
   ]
  },
  {
   "cell_type": "markdown",
   "metadata": {},
   "source": [
    "Se me había olvidado poner el \" and not x in inter \", y es importante, porque en una intersección no puede haber elementos repetidos.\n",
    "<br> En vez de escribir el segundo loop, deberíamos usar \"if x in k\", porque cuanto más simple el código, mejor. Aun así, in está haciendo ese mismo loop xd."
   ]
  },
  {
   "cell_type": "code",
   "execution_count": null,
   "metadata": {},
   "outputs": [],
   "source": [
    "#E3.b Soluciones\n",
    "\n",
    "def list_intersection(l1,l2):\n",
    "    if len(l1) == 0:\n",
    "        return []\n",
    "    x1 = l1[0]\n",
    "    intersection = list_intersection(l1[1:],l2):\n",
    "        ...\n",
    "    "
   ]
  },
  {
   "cell_type": "markdown",
   "metadata": {},
   "source": [
    "## 5. Dictionaries\n",
    "key-value associated lists.\n",
    "## 6. BLOCK EXERCISES"
   ]
  },
  {
   "cell_type": "code",
   "execution_count": 14,
   "metadata": {},
   "outputs": [],
   "source": [
    "#E1"
   ]
  },
  {
   "cell_type": "code",
   "execution_count": null,
   "metadata": {},
   "outputs": [],
   "source": [
    "#E2"
   ]
  },
  {
   "cell_type": "code",
   "execution_count": 1,
   "metadata": {},
   "outputs": [
    {
     "name": "stdout",
     "output_type": "stream",
     "text": [
      "GA 1\n",
      "AT 1\n",
      "TT 1\n",
      "TA 1\n",
      "AC 3\n",
      "CA 3\n"
     ]
    }
   ],
   "source": [
    "#E3\n",
    "def kmer_profile(sequence,k):\n",
    "    profile = {}\n",
    "    for i in range(len(sequence)-k+1):\n",
    "        kmer = sequence[i:i+k]\n",
    "        if kmer not in profile:\n",
    "            profile[kmer] = 0\n",
    "        profile[kmer] += 1\n",
    "    return profile\n",
    "\n",
    "def print_profile(profile):\n",
    "    for key in profile:\n",
    "        print(key,profile[key])\n",
    "\n",
    "print_profile(kmer_profile(\"GATTACACACA\",2))\n"
   ]
  }
 ],
 "metadata": {
  "kernelspec": {
   "display_name": "Python 3",
   "language": "python",
   "name": "python3"
  },
  "language_info": {
   "codemirror_mode": {
    "name": "ipython",
    "version": 3
   },
   "file_extension": ".py",
   "mimetype": "text/x-python",
   "name": "python",
   "nbconvert_exporter": "python",
   "pygments_lexer": "ipython3",
   "version": "3.7.3"
  }
 },
 "nbformat": 4,
 "nbformat_minor": 2
}
