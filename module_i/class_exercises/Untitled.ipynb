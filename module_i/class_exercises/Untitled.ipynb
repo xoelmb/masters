{
 "cells": [
  {
   "cell_type": "code",
   "execution_count": null,
   "metadata": {},
   "outputs": [],
   "source": [
    "#E1\n",
    "\n",
    "\n",
    "class whatever:\n",
    "    def __init__(self, name, age):\n",
    "        self.name=name\n",
    "        self.age=age\n",
    "        return self\n",
    "    \n",
    "    def cry_me_a_river(self)\n",
    "        print(\"self.name\")\n",
    "        \n",
    "    def new_name(self, name):\n",
    "        self.name=name\n",
    "        return self\n",
    "    \n"
   ]
  },
  {
   "cell_type": "code",
   "execution_count": null,
   "metadata": {},
   "outputs": [],
   "source": [
    "class fastX_recall:\n",
    "    def __init__(self, tag, seq, qual):\n",
    "        self.tag\n",
    "    \n",
    "    def getFormat(self):\n",
    "        if self.qual:\n",
    "            return \"FASTQ\"\n",
    "        else:\n",
    "            return \"FASTA\"\n",
    "        "
   ]
  }
 ],
 "metadata": {
  "kernelspec": {
   "display_name": "Python 3",
   "language": "python",
   "name": "python3"
  },
  "language_info": {
   "codemirror_mode": {
    "name": "ipython",
    "version": 3
   },
   "file_extension": ".py",
   "mimetype": "text/x-python",
   "name": "python",
   "nbconvert_exporter": "python",
   "pygments_lexer": "ipython3",
   "version": "3.7.3"
  }
 },
 "nbformat": 4,
 "nbformat_minor": 2
}
